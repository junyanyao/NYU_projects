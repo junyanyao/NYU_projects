{
 "cells": [
  {
   "cell_type": "markdown",
   "metadata": {},
   "source": [
    "For many years there has been controversy regarding whether maternal employment has a detrimental or beneficial effect on children across a variety of dimensions.  The policy implications of such links range from considerations regarding when mothers participating in TANF (Temporary Assistance to Needy Families) should be forced to return to work after giving birth, to proposed changes in provisions under the Family and Medical Leave Act regarding length of leave and who is covered.  We will use data on a sample of women and children from the National Longitudinal Survey of Youth (data, codebook and description of survey in separate files on Blackboard in this section) to explore whether or not there appears to be a causal link between maternal employment and children’s cognitive development."
   ]
  },
  {
   "cell_type": "markdown",
   "metadata": {},
   "source": [
    "I will use propensity score matching to estimate the effect of maternal employment in the first year on children’s cognitive outcomes.  The sample has been restricted to exclude the children of mothers who did not work at all in the first three years of their children’s life in order to focus analyses on comparisons between the children of mothers who return to work in the first year after giving birth and those who return either in the 2nd or 3rd year of their child’s life.  Use math achievement scores from ages 5/6 “piatm56” as outcome variable.\n"
   ]
  },
  {
   "cell_type": "markdown",
   "metadata": {},
   "source": [
    "First I will consider the effect of the treatment (maternal employment during first year of child’s life) on the treated (children whose mothers worked during the first year of their lives) where the treatment variable is called first.  Decide what variables should be considered confounding covariates in the subsequent analyses.  Then prioritize the confounders into three categories (most important to balance, somewhat less important to balance, least important to balance) with roughly the same number of variables in each category. When assessing model fit I'd like to evaluate balance on all of these variables, regardless of whether all of them end up in final propensity score model.  However this prioritization may help to decide how to evaluate trade-offs in balance across different model specifications.  "
   ]
  },
  {
   "cell_type": "markdown",
   "metadata": {},
   "source": [
    "* List of all the confounding covariates:\n",
    "Hispanic; black; white; momrace; female; hs; b_marr;  pr0; lths; momed; lnfinc_a0; brthwt; brorddum; preterm; afqt;  ltcoll; college; momage; age; rmomwk;\n",
    "\n",
    "* Most important\n",
    "Family income, Family poverty situation, weeks per-term, mother’s marital status, birthweight of the child;\n",
    "\n",
    "* Less important:\n",
    "Mom’s race and Education, mother’s age, first born or not\n",
    "\n",
    "* Least important\n",
    "Child’s age, mom’s score on the armed forces qualifying test, did respondent have a mom who worked when respondent was in high school, Female or not.\n",
    "\n",
    "\n",
    "Some notes: I think the family income/poverty, mother’s marital status, and the health of the child are very important factors that are associated with both treatment (if go to work in the first year of giving birth) and the outcome (child’s PIAT math score at age 5-6). I think both birthweight and weeks of pre-term are related with child’s health. I think mom’s race and education, mom’s age, and if the child is first born or not, are also associated with the treatment and the outcome. But I think these factors could be less related to the treatment than family income and child’s health status. Other factors such as child’s age, mom’s score on the armed forces qualifying test, respondent’s mom employment status in high school, and if the child is female or not, are the least important confounding covariates. Even though I think they are associated with treatment and outcome, but I think they probably won’t affect the outcome significantly. "
   ]
  },
  {
   "cell_type": "markdown",
   "metadata": {},
   "source": [
    "## Search for a good propensity score model "
   ]
  },
  {
   "cell_type": "code",
   "execution_count": 1,
   "metadata": {},
   "outputs": [],
   "source": [
    "from pymatch.Matcher import Matcher\n",
    "import pandas as pd\n",
    "import numpy as np"
   ]
  },
  {
   "cell_type": "code",
   "execution_count": 2,
   "metadata": {},
   "outputs": [],
   "source": [
    "df = pd.read_stata(\"/Users/YaoJunyan/Documents/NYU/Fall 2017/Causal Inference/Assignment 4/nlsy.hw4.forclass.dta\")"
   ]
  },
  {
   "cell_type": "code",
   "execution_count": 3,
   "metadata": {
    "scrolled": true
   },
   "outputs": [
    {
     "name": "stdout",
     "output_type": "stream",
     "text": [
      "<class 'pandas.core.frame.DataFrame'>\n",
      "Int64Index: 3100 entries, 0 to 3099\n",
      "Data columns (total 29 columns):\n",
      "row_names    3100 non-null float32\n",
      "hispanic     3100 non-null category\n",
      "black        3100 non-null category\n",
      "white        3100 non-null category\n",
      "momrace      3100 non-null category\n",
      "female       3100 non-null category\n",
      "b_marr       3100 non-null category\n",
      "pr0          3100 non-null category\n",
      "lths         3100 non-null float32\n",
      "hs           3100 non-null float32\n",
      "ltcoll       3100 non-null float32\n",
      "college      3100 non-null float32\n",
      "momed        3100 non-null category\n",
      "lnfinc_a0    3100 non-null float32\n",
      "age          3100 non-null float32\n",
      "momage       3100 non-null float32\n",
      "afqt         3100 non-null float32\n",
      "brthwt       3100 non-null float32\n",
      "brorddum     3100 non-null category\n",
      "preterm      3100 non-null float32\n",
      "rmomwk       3100 non-null category\n",
      "work         3100 non-null category\n",
      "ppvt         3100 non-null float32\n",
      "piatm56      3100 non-null float32\n",
      "piatm78      3100 non-null float32\n",
      "piatr56      3100 non-null float32\n",
      "piatr78      3100 non-null float32\n",
      "notfirst     3100 non-null float32\n",
      "first        3100 non-null float32\n",
      "dtypes: category(11), float32(18)\n",
      "memory usage: 276.6 KB\n"
     ]
    }
   ],
   "source": [
    "df.info()"
   ]
  },
  {
   "cell_type": "markdown",
   "metadata": {},
   "source": [
    "### Make some adjustment on the variables"
   ]
  },
  {
   "cell_type": "code",
   "execution_count": 5,
   "metadata": {},
   "outputs": [
    {
     "data": {
      "text/plain": [
       "first born    1677\n",
       "2.0           1423\n",
       "Name: brorddum, dtype: int64"
      ]
     },
     "execution_count": 5,
     "metadata": {},
     "output_type": "execute_result"
    }
   ],
   "source": [
    "df.brorddum.value_counts()"
   ]
  },
  {
   "cell_type": "code",
   "execution_count": 6,
   "metadata": {},
   "outputs": [],
   "source": [
    "df['brorddum2'] = np.where(df['brorddum']== 2, 0,1)"
   ]
  },
  {
   "cell_type": "markdown",
   "metadata": {},
   "source": [
    "1 is for first born; 0 is for not first born\n"
   ]
  },
  {
   "cell_type": "code",
   "execution_count": null,
   "metadata": {},
   "outputs": [],
   "source": [
    "df['hispanic'] = df['hispanic'].cat.codes\n",
    "df['black'] = df['black'].cat.codes\n",
    "df['white'] = df['white'].cat.codes\n",
    "df['momrace'] = df['momrace'].cat.codes\n",
    "df['female'] = df['female'].cat.codes\n",
    "df['b_marr'] = df['b_marr'].cat.codes\n",
    "df['pr0'] = df['pr0'].cat.codes\n",
    "df['momed'] = df['momed'].cat.codes\n",
    "df['brorddum'] = df['brorddum'].cat.codes\n",
    "df['rmomwk'] = df['rmomwk'].cat.codes\n",
    "df['work'] = df['work'].cat.codes\n"
   ]
  },
  {
   "cell_type": "raw",
   "metadata": {},
   "source": [
    "stata code: \n",
    "xi: psmatch2  first hispanic black white i.momrace female hs b_marr  pr0 lths i.momed lnfinc_a0 brthwt brorddum2 preterm afqt  ltcoll college momage age rmomwk\n"
   ]
  },
  {
   "cell_type": "code",
   "execution_count": 65,
   "metadata": {},
   "outputs": [],
   "source": [
    "df2=df[['first','hispanic', 'black' ,'white', 'momrace', 'female', 'hs' ,'b_marr', 'pr0', 'lths', 'momed', 'lnfinc_a0', 'brthwt', 'brorddum2', 'preterm', 'afqt', 'ltcoll', 'college', 'momage', 'age', 'rmomwk']]\n",
    "\n",
    "\n",
    "test = df2[df2['first']==1]\n",
    "control = df2[df2['first']==0]"
   ]
  },
  {
   "cell_type": "code",
   "execution_count": 66,
   "metadata": {},
   "outputs": [
    {
     "name": "stdout",
     "output_type": "stream",
     "text": [
      "Formula:\n",
      "first ~ hispanic+black+white+momrace+female+hs+b_marr+pr0+lths+momed+lnfinc_a0+brthwt+brorddum2+preterm+afqt+ltcoll+college+momage+age+rmomwk\n",
      "n majority: 2286\n",
      "n minority: 814\n"
     ]
    }
   ],
   "source": [
    "m = Matcher(test, control, yvar=\"first\", exclude=[])"
   ]
  },
  {
   "cell_type": "code",
   "execution_count": 67,
   "metadata": {},
   "outputs": [
    {
     "name": "stdout",
     "output_type": "stream",
     "text": [
      "Fitting Models on Balanced Samples: 100\\100\n",
      "Average Accuracy: 64.68%\n"
     ]
    }
   ],
   "source": [
    "np.random.seed(20170925)\n",
    "m.fit_scores(balance=True, nmodels=100)"
   ]
  },
  {
   "cell_type": "code",
   "execution_count": 68,
   "metadata": {},
   "outputs": [
    {
     "data": {
      "image/png": "[encoded data removed]",
      "text/plain": [
       "<Figure size 720x360 with 1 Axes>"
      ]
     },
     "metadata": {},
     "output_type": "display_data"
    }
   ],
   "source": [
    "m.predict_scores()\n",
    "m.plot_scores()"
   ]
  },
  {
   "cell_type": "markdown",
   "metadata": {},
   "source": [
    "It is very clear that this model is not well-balanced in my first model. Some confounding covariates such as race, education, income, if this child is first born, mom’s score on the armed forces qualifying test, weeks per-term, didn’t satisfy the criteria. Thus, I tried to add some squared terms such as mom’s score on the armed forces qualifying test squared, weeks per-term squared, and interaction between mom’s education and family income.\n"
   ]
  },
  {
   "cell_type": "code",
   "execution_count": 70,
   "metadata": {},
   "outputs": [],
   "source": [
    "df['momage2'] = df['momage'] * df['momage'] \n",
    "df['afqt2'] = df['afqt'] * df['afqt']\n",
    "df['preterm2'] = df['preterm'] * df['preterm'] \n",
    "df['inc_edu'] = df['lnfinc_a0'] * df['momed']"
   ]
  },
  {
   "cell_type": "code",
   "execution_count": 71,
   "metadata": {},
   "outputs": [],
   "source": [
    "df3= df[['first','hispanic', 'black' ,'white', 'momrace', 'female', 'hs' ,'b_marr', 'pr0', 'lths', 'momed', 'lnfinc_a0', 'brthwt', 'brorddum2', 'preterm', 'afqt', 'ltcoll', 'college', 'momage', 'age', 'rmomwk', 'afqt2', 'preterm2', 'inc_edu']]\n",
    "\n",
    "\n",
    "test2 = df3[df3['first']==1]\n",
    "control2 = df3[df3['first']==0]"
   ]
  },
  {
   "cell_type": "code",
   "execution_count": 72,
   "metadata": {
    "scrolled": true
   },
   "outputs": [
    {
     "name": "stdout",
     "output_type": "stream",
     "text": [
      "Formula:\n",
      "first ~ hispanic+black+white+momrace+female+hs+b_marr+pr0+lths+momed+lnfinc_a0+brthwt+brorddum2+preterm+afqt+ltcoll+college+momage+age+rmomwk+afqt2+preterm2+inc_edu\n",
      "n majority: 2286\n",
      "n minority: 814\n"
     ]
    }
   ],
   "source": [
    "m2 = Matcher(test2, control2, yvar=\"first\")"
   ]
  },
  {
   "cell_type": "code",
   "execution_count": 73,
   "metadata": {
    "scrolled": true
   },
   "outputs": [
    {
     "name": "stdout",
     "output_type": "stream",
     "text": [
      "Fitting Models on Balanced Samples: 100\\100\n",
      "Average Accuracy: 64.52%\n"
     ]
    }
   ],
   "source": [
    "np.random.seed(20170925)\n",
    "m2.fit_scores(balance=True, nmodels=100)"
   ]
  },
  {
   "cell_type": "markdown",
   "metadata": {},
   "source": [
    "looks like the first one is slightly better"
   ]
  },
  {
   "cell_type": "code",
   "execution_count": 74,
   "metadata": {
    "scrolled": false
   },
   "outputs": [
    {
     "data": {
      "image/png": "[encoded data removed]",
      "text/plain": [
       "<Figure size 720x360 with 1 Axes>"
      ]
     },
     "metadata": {},
     "output_type": "display_data"
    }
   ],
   "source": [
    "m2.predict_scores()\n",
    "m2.plot_scores()"
   ]
  },
  {
   "cell_type": "markdown",
   "metadata": {},
   "source": [
    "By eyeballing this graph, I think the overlap is sufficient. But for higher propensity score, the counterfactual unit might not be sufficient without replacement.\n"
   ]
  },
  {
   "cell_type": "markdown",
   "metadata": {},
   "source": [
    "## Check Assumptions\n",
    "* Sufficient overlap\n",
    "    - This assumption I would say we meet it sufficiently from above graph.\n",
    "* Ignorability\n",
    "    - This is hard to say. We cannot tell from given information. You have to control for all the confounders to achieve this assumption, which is not plausible. \n",
    "* Appropriate specification of the propensity score\n",
    "    - I think the overall is close balanced. So I would say this assumption is achieved.\n",
    "* SUTVA\n",
    "    - This is hard to say. We cannot tell from this given information. This could depend on how data were collected. It could happen that two mothers are not independent."
   ]
  },
  {
   "cell_type": "code",
   "execution_count": 103,
   "metadata": {},
   "outputs": [],
   "source": [
    "from causalinference import CausalModel\n",
    "X= df[['hispanic', 'black' ,'white', 'momrace', 'female', 'hs' ,'b_marr', 'pr0', 'lths', 'momed', 'lnfinc_a0', 'brthwt', 'brorddum2', 'preterm', 'afqt', 'ltcoll', 'college', 'momage', 'age', 'rmomwk']]\n",
    "y= df['piatm56']\n",
    "D= df['first']\n",
    "\n",
    "X=np.asarray(X)\n",
    "causal = CausalModel(Y, D, X)"
   ]
  },
  {
   "cell_type": "code",
   "execution_count": 95,
   "metadata": {},
   "outputs": [],
   "source": [
    "causal.est_propensity_s()"
   ]
  },
  {
   "cell_type": "code",
   "execution_count": 101,
   "metadata": {
    "scrolled": false
   },
   "outputs": [
    {
     "name": "stderr",
     "output_type": "stream",
     "text": [
      "/Library/Frameworks/Python.framework/Versions/3.6/lib/python3.6/site-packages/causalinference/estimators/weighting.py:23: FutureWarning: `rcond` parameter will change to the default of machine precision times ``max(M, N)`` where M and N are the input matrix dimensions.\n",
      "To use the future default and silence this warning we advise to pass `rcond=None`, to keep using the old, explicitly pass `rcond=-1`.\n",
      "  wlscoef = np.linalg.lstsq(Z_w, Y_w)[0]\n"
     ]
    }
   ],
   "source": [
    "causal.est_via_weighting()"
   ]
  },
  {
   "cell_type": "code",
   "execution_count": 102,
   "metadata": {
    "scrolled": true
   },
   "outputs": [
    {
     "name": "stdout",
     "output_type": "stream",
     "text": [
      "\n",
      "Treatment Effect Estimates: Weighting\n",
      "\n",
      "                     Est.       S.e.          z      P>|z|      [95% Conf. int.]\n",
      "--------------------------------------------------------------------------------\n",
      "           ATE     -1.340      0.580     -2.309      0.021     -2.477     -0.203\n",
      "\n"
     ]
    }
   ],
   "source": [
    "print(causal.estimates)"
   ]
  },
  {
   "cell_type": "markdown",
   "metadata": {},
   "source": [
    "### Without Matching:"
   ]
  },
  {
   "cell_type": "code",
   "execution_count": 104,
   "metadata": {},
   "outputs": [
    {
     "name": "stdout",
     "output_type": "stream",
     "text": [
      "89.45701170704238\n",
      "[-1.27543361e+00  5.76854234e-02 -1.02420248e+00  9.66517058e-01\n",
      "  9.08831635e-01  1.37525429e+00 -1.36523708e-01 -9.58353810e-01\n",
      " -2.15163602e-01 -1.37980194e-01  1.20090953e+00  8.79816711e-01\n",
      " -4.81996609e-03 -1.66043007e+00 -2.37044830e-01  1.66802906e-01\n",
      " -5.13921535e-01  7.88425437e-01 -4.09168869e-02  1.06160075e-03\n",
      " -3.80822148e-01]\n"
     ]
    }
   ],
   "source": [
    "import sklearn.linear_model as skl_lm\n",
    "\n",
    "# Regression coefficients (Ordinary Least Squares)\n",
    "regr = skl_lm.LinearRegression()\n",
    "\n",
    "X= df[['first','hispanic', 'black' ,'white', 'momrace', 'female', 'hs' ,'b_marr', 'pr0', 'lths', 'momed', 'lnfinc_a0', 'brthwt', 'brorddum2', 'preterm', 'afqt', 'ltcoll', 'college', 'momage', 'age', 'rmomwk']]\n",
    "y= df['piatm56']\n",
    "\n",
    "\n",
    "regr.fit(X,y)\n",
    "print(regr.intercept_)\n",
    "print(regr.coef_)"
   ]
  },
  {
   "cell_type": "markdown",
   "metadata": {},
   "source": [
    "The coefficient on the first variable is -1.28 with standard deviation 0.52, which is statistically significant. The math score of children whose mom goes to work in the first year after giving birth is 1.28 on average less than children whose mom does not go to work in the first year of giving birth.\n",
    "\n"
   ]
  },
  {
   "cell_type": "markdown",
   "metadata": {},
   "source": [
    "This analysis did not control for the weight. The sufficient overlap assumption and Appropriate specification of the propensity score assumption probably don’t hold here because this analysis is not matched and balanced. \n",
    "\n"
   ]
  },
  {
   "cell_type": "markdown",
   "metadata": {},
   "source": [
    "# Codebook"
   ]
  },
  {
   "cell_type": "markdown",
   "metadata": {},
   "source": [
    "The NLSY (National Longitudinal Survey of Youth) has been collecting information on the same cohort of men and women since 1979 when they were teenagers.  Data was collected every year until 1992 and has been collected every two years since.  The sampling was done in such a way as to be nationally representative of that age cohort at the time the study was started.  The children of women in the study have been surveyed and tested every two years since 1986 as well.  The sample you have access to represents a selection of the variables for a (nonrandom) subset of these mothers and children.  \n",
    "\n",
    "## description of variables\n",
    "\n",
    "### hispanic, black, white\n",
    "are dummy variables for mother's ethnicity\n",
    "### momrace (1=hispanic, 2=black, 3=white/other)\n",
    "### female\n",
    "(1=female, 0=male)\n",
    "### b_marr\n",
    "mom married at birth? (1=yes)\n",
    "### pr0\n",
    "dummy for whether the household was in poverty in the year\n",
    "before the child was born (1=yes)\n",
    "### momed\n",
    "mom's education level when she gave birth\n",
    "(1= less than hs, 2=hs grad, 3=some college, 4=finished college)\n",
    "#lths, hs, ltcoll, college are the corresponding dummies\n",
    "\n",
    "### lnfinc_a0\n",
    "logged family income, scaled by the poverty rate, in the year before the child was born\n",
    "\n",
    "### age\n",
    "child's age (in months) on 1/1/1990\n",
    "\n",
    "### momage\n",
    "age of mom when she gave birth (in years)\n",
    "\n",
    "### afqt\n",
    "mom's score on the armed forces qualifying test (an iq test of sorts)\n",
    "\n",
    "### brthwt\n",
    "birthweight of child in oz\n",
    "\n",
    "### brorddum\n",
    "1 if child first born, 0 otherwise\n",
    "\n",
    "### preterm\n",
    "weeks pre-term (note that if born late this could be negative)\n",
    "all the ihdp kids were preterm\n",
    "\n",
    "### rmomwk\n",
    "did respondent (mother of child) have a mom who worked when \n",
    "respondent was in high school? (1=yes)\n",
    "\n",
    "### work\n",
    "1=mom did not work in 1st 3 years of child's life\n",
    "2=mom did not work in 1st year of child's life but did work sometime\n",
    "  in years 2 or 3\n",
    "3=mom worked part-time in child's first year of life\n",
    "4=mom worked full-time in child's first year of life\n",
    "\n",
    "### ppvt\n",
    "score on the Peabody Picture Vocab. Test (Revised) at 36 months\n",
    "(a form of IQ test)\n",
    "\n",
    "### piatm56\n",
    "score on the PIAT math component at age 5 or 6\n",
    "(a form of IQ test)\n",
    "\n",
    "### piatr56\n",
    "score on the PIAT reading component at age 5 or 6\n",
    "(a form of IQ test)\n",
    "\n",
    "### piatm78\n",
    "score on the PIAT math component at age 7 or 8\n",
    "(a form of IQ test)\n",
    "\n",
    "### piatr78\n",
    "score on the PIAT reading component at age 7 or 8\n",
    "(a form of IQ test)\n"
   ]
  }
 ],
 "metadata": {
  "kernelspec": {
   "display_name": "Python 3",
   "language": "python",
   "name": "python3"
  },
  "language_info": {
   "codemirror_mode": {
    "name": "ipython",
    "version": 3
   },
   "file_extension": ".py",
   "mimetype": "text/x-python",
   "name": "python",
   "nbconvert_exporter": "python",
   "pygments_lexer": "ipython3",
   "version": "3.6.5"
  }
 },
 "nbformat": 4,
 "nbformat_minor": 2
}
